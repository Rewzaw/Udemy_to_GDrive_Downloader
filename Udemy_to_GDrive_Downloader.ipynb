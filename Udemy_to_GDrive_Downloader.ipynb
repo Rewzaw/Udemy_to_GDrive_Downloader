{
  "nbformat": 4,
  "nbformat_minor": 0,
  "metadata": {
    "colab": {
      "name": "Udemy_to_GDrive_Downloader.ipynb",
      "provenance": [],
      "collapsed_sections": [],
      "include_colab_link": true
    },
    "kernelspec": {
      "name": "python3",
      "display_name": "Python 3"
    }
  },
  "cells": [
    {
      "cell_type": "markdown",
      "metadata": {
        "id": "view-in-github",
        "colab_type": "text"
      },
      "source": [
        "<a href=\"https://colab.research.google.com/github/Rewzaw/Udemy_to_GDrive_Downloader/blob/master/Udemy_to_GDrive_Downloader.ipynb\" target=\"_parent\"><img src=\"https://colab.research.google.com/assets/colab-badge.svg\" alt=\"Open In Colab\"/></a>"
      ]
    },
    {
      "cell_type": "code",
      "metadata": {
        "id": "_hpsYhc5hR0o",
        "colab_type": "code",
        "cellView": "form",
        "colab": {}
      },
      "source": [
        "#@markdown <h3>⬅️ Run this Cell to  Mount Gdrive\n",
        "#@markdown <br><center><img src='https://upload.wikimedia.org/wikipedia/commons/thumb/d/da/Google_Drive_logo.png/600px-Google_Drive_logo.png' height=\"110\" alt=\"Gdrive logo\"/></center>\n",
        " \n",
        "MODE = \"MOUNT\" #@param [\"MOUNT\", \"UNMOUNT\"]\n",
        "#Mount your Gdrive! \n",
        "from google.colab import drive\n",
        "drive.mount._DEBUG = False\n",
        "if MODE == \"MOUNT\":\n",
        "  drive.mount('/content/drive', force_remount=True)\n",
        "elif MODE == \"UNMOUNT\":\n",
        "  try:\n",
        "    drive.flush_and_unmount()\n",
        "  except ValueError:\n",
        "    pass\n",
        "  get_ipython().system_raw(\"rm -rf /root/.config/Google/DriveFS\")"
      ],
      "execution_count": null,
      "outputs": []
    },
    {
      "cell_type": "code",
      "metadata": {
        "id": "R4QBua4xKN2W",
        "colab_type": "code",
        "cellView": "form",
        "colab": {}
      },
      "source": [
        "#@markdown <h3>⬅️ Run this Cell to Install Required Libraries \n",
        "#@markdown <br><center><img src='http://uupload.ir/files/iqwa_library.jpg' height=\"200\" alt=\"Gdrive logo\"/></center>\n",
        " \n",
        "!git clone https://github.com/r0oth3x49/udemy-dl.git && cd udemy-dl && pip install -r requirements.txt\n",
        " \n",
        "from IPython.display import HTML, clear_output\n",
        " \n",
        "clear_output()\n",
        " \n",
        "display(HTML(\"<center><h2 style=\\\"font-family:Trebuchet MS;color:#4f8bd6;\\\">Successfully Configured!</h2><br></center>\"))"
      ],
      "execution_count": null,
      "outputs": []
    },
    {
      "cell_type": "code",
      "metadata": {
        "id": "oTpJougMtrE1",
        "colab_type": "code",
        "cellView": "form",
        "colab": {}
      },
      "source": [
        "#@markdown <h3>⬅️ Run This Cell to Change Current Working Directory\n",
        "%cd udemy-dl/"
      ],
      "execution_count": null,
      "outputs": []
    },
    {
      "cell_type": "code",
      "metadata": {
        "id": "i53VKEGOkiYP",
        "colab_type": "code",
        "cellView": "form",
        "colab": {}
      },
      "source": [
        "#@markdown <h3>⬅️ Run this Cell after Finishing all the Details below to Download the Course \n",
        " \n",
        "import os\n",
        "Course_Url = \"\" #@param {type:\"string\"}\n",
        "os.environ[\"courseurl\"] = Course_Url\n",
        " \n",
        "Download_Dir = \"/content/drive/My Drive\" #@param {type:\"string\"}\n",
        "os.environ[\"downloaddir\"] = Download_Dir\n",
        " \n",
        "Access_Token = \"\" #@param {type:\"string\"}\n",
        "os.environ[\"token\"] = Access_Token\n",
        " \n",
        "Subtitle_lang = \"en\" #@param {type:\"string\"}\n",
        "os.environ[\"lang\"] = Subtitle_lang\n",
        " \n",
        "Quality = \"720\" #@param {type:\"string\"}\n",
        "os.environ[\"quality\"] = Quality\n",
        " \n",
        "!echo access_token=\"$token\" >> cookie.txt\n",
        "!python udemy-dl.py \"$courseurl\" -s \"$lang\" -q \"$quality\" -k cookie.txt -o \"$downloaddir\"\n",
        " \n",
        " \n",
        "from IPython.display import HTML, clear_output\n",
        " \n",
        "clear_output()\n",
        "\n",
        "print(\"\"\"\n",
        " \n",
        "                                                                  __________                               \n",
        "                                                                  \\______   \\ ______  _  _______________   \n",
        "                                                                  |       _// __ \\ \\/ \\/ /\\___   /\\__  \\  \n",
        "                                                                  |    |   \\  ___/\\     /  /    /  / __ \\_\n",
        "                                                                  |____|___/\\_____>\\/\\_/  /______\\(______/        \n",
        " \n",
        "        \n",
        "\"\"\")\n",
        " \n",
        "print(\"\"\"\n",
        "                                                                          Tel: t.me/PyC0der\n",
        "\"\"\")\n",
        " \n",
        "display(HTML(\"<center><h2 style=\\\"font-family:Trebuchet MS;color:#4f8bd6;\\\">Successfully Downloaded!</h2><br></center>\"))"
      ],
      "execution_count": null,
      "outputs": []
    }
  ]
}